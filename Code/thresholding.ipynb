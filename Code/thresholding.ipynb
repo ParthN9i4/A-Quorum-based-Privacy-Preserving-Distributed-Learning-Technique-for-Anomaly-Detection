{
 "cells": [
  {
   "cell_type": "code",
   "execution_count": 3,
   "metadata": {},
   "outputs": [
    {
     "name": "stdout",
     "output_type": "stream",
     "text": [
      "File with absolute z-scores saved successfully to C:\\Users\\PRANAV\\OneDrive\\Desktop\\fedl\\3 clients\\x_part3.csv\n"
     ]
    }
   ],
   "source": [
    "import pandas as pd\n",
    "import numpy as np\n",
    "\n",
    "def add_absolute_z_scores_to_csv(input_file, output_file):\n",
    "    \"\"\"\n",
    "    Reads a CSV file, calculates absolute z-scores for the 'anomaly_scores' column, \n",
    "    and saves the modified DataFrame with the absolute z-scores as a new column to a new CSV file.\n",
    "\n",
    "    Parameters:\n",
    "        input_file (str): Path to the input CSV file.\n",
    "        output_file (str): Path to save the output CSV file.\n",
    "    \"\"\"\n",
    "    try:\n",
    "        # Read the CSV file\n",
    "        data = pd.read_csv(input_file)\n",
    "        \n",
    "        # Check if 'anomaly_scores' column exists\n",
    "        if 'Anomaly_Score' not in data.columns:\n",
    "            print(\"Error: 'Anomaly_Score' column not found in the input file.\")\n",
    "            return\n",
    "        \n",
    "        # Calculate z-scores for the 'anomaly_scores' column\n",
    "        scores = data['Anomaly_Score']\n",
    "        mean = np.mean(scores)\n",
    "        std_dev = np.std(scores)\n",
    "        \n",
    "        # Avoid division by zero if standard deviation is 0\n",
    "        if std_dev == 0:\n",
    "            data['z_scores'] = 0\n",
    "        else:\n",
    "            # Calculate absolute z-scores\n",
    "            data['z_scores'] = np.abs((scores - mean) / std_dev)\n",
    "        \n",
    "        # Save the modified DataFrame to a new CSV file\n",
    "        data.to_csv(output_file, index=False)\n",
    "        print(f\"File with absolute z-scores saved successfully to {output_file}\")\n",
    "\n",
    "    except FileNotFoundError:\n",
    "        print(\"Error: Input file not found. Please check the file path.\")\n",
    "    except Exception as e:\n",
    "        print(f\"An error occurred: {e}\")\n",
    "\n",
    "# Example usage\n",
    "# Replace 'input_file.csv' with the path to your input CSV file\n",
    "# Replace 'output_file.csv' with the desired output file path\n",
    "add_absolute_z_scores_to_csv(r\"C:\\Users\\PRANAV\\OneDrive\\Desktop\\fedl\\3 clients\\x_part3.csv\", r\"C:\\Users\\PRANAV\\OneDrive\\Desktop\\fedl\\3 clients\\x_part3.csv\")\n"
   ]
  },
  {
   "cell_type": "code",
   "execution_count": 44,
   "metadata": {},
   "outputs": [
    {
     "name": "stdout",
     "output_type": "stream",
     "text": [
      "Threshold 0.5382 applied and saved to /home/saipranav/Desktop/fedl/tt4/x_part6.csv\n"
     ]
    }
   ],
   "source": [
    "import pandas as pd\n",
    "\n",
    "def add_labels_for_multiple_thresholds(input_file, thresholds):\n",
    "    \"\"\"\n",
    "    Reads a CSV file, compares 'Anomaly_Score' with a set of thresholds, \n",
    "    and adds a 'local_labels' column to the same input file for each threshold.\n",
    "\n",
    "    Parameters:\n",
    "        input_file (str): Path to the input CSV file.\n",
    "        thresholds (list of float): List of threshold values for labeling anomalies.\n",
    "    \"\"\"\n",
    "    try:\n",
    "        # Read the input CSV file\n",
    "        data = pd.read_csv(input_file)\n",
    "\n",
    "        # # Check if the 'Anomaly_Score' column exists\n",
    "        # if 'Anomaly_Score' not in data.columns:\n",
    "        #     print(\"Error: 'Anomaly_Score' column not found in the input file.\")\n",
    "        #     return\n",
    "\n",
    "        # Iterate through the list of thresholds\n",
    "        for threshold in thresholds:\n",
    "            # Create a new column 'local_labels' based on the threshold\n",
    "            data['c5_labels'] = (data['scores_c5'] > threshold).astype(int)\n",
    "\n",
    "            # Save the modified DataFrame back to the same CSV file\n",
    "            data.to_csv(input_file, index=False)\n",
    "            print(f\"Threshold {threshold} applied and saved to {input_file}\")\n",
    "\n",
    "    except FileNotFoundError:\n",
    "        print(\"Error: Input file not found. Please check the file path.\")\n",
    "    except Exception as e:\n",
    "        print(f\"An error occurred: {e}\")\n",
    "\n",
    "# Example usage\n",
    "# Replace 'input_file.csv' with the path to your input CSV file\n",
    "# Specify a list of thresholds to compare against\n",
    "add_labels_for_multiple_thresholds(\n",
    "    input_file=r\"/home/saipranav/Desktop/fedl/tt4/x_part6.csv\",\n",
    "    thresholds=[0.5382]\n",
    "\n",
    ")\n"
   ]
  },
  {
   "cell_type": "code",
   "execution_count": 37,
   "metadata": {},
   "outputs": [
    {
     "name": "stdout",
     "output_type": "stream",
     "text": [
      "0.5382\n",
      "Mean of anomaly_scores: 0.353484\n",
      "Standard deviation of anomaly_scores: 0.026388\n"
     ]
    }
   ],
   "source": [
    "import pandas as pd\n",
    "\n",
    "def calculate_anomaly_stats(file_path):\n",
    "    try:\n",
    "        # Load the CSV file\n",
    "        data = pd.read_csv(file_path)\n",
    "\n",
    "        # # Check if 'anomaly_scores' column exists\n",
    "        # if 'Anomaly_Score' not in data.columns:\n",
    "        #     raise ValueError(\"The column 'anomaly_scores' does not exist in the CSV file.\")\n",
    "\n",
    "        # Calculate mean and standard deviation\n",
    "        mean_score = round(data['Anomaly_Score'].mean(), 6)\n",
    "        std_dev_score = round(data['Anomaly_Score'].std(), 6)\n",
    "\n",
    "        return mean_score, std_dev_score\n",
    "\n",
    "    except Exception as e:\n",
    "        return str(e)\n",
    "\n",
    "# Example usage\n",
    "file_path = r\"/home/saipranav/Desktop/fedl/tt4/x_part5.csv\" # Replace with your CSV file path\n",
    "mean, std_dev = calculate_anomaly_stats(file_path)\n",
    "result = mean+(std_dev*7)\n",
    "print(result)\n",
    "print(f\"Mean of anomaly_scores: {mean}\")\n",
    "print(f\"Standard deviation of anomaly_scores: {std_dev}\")\n"
   ]
  },
  {
   "cell_type": "code",
   "execution_count": null,
   "metadata": {},
   "outputs": [],
   "source": []
  },
  {
   "cell_type": "code",
   "execution_count": null,
   "metadata": {},
   "outputs": [],
   "source": []
  }
 ],
 "metadata": {
  "kernelspec": {
   "display_name": "Python 3",
   "language": "python",
   "name": "python3"
  },
  "language_info": {
   "codemirror_mode": {
    "name": "ipython",
    "version": 3
   },
   "file_extension": ".py",
   "mimetype": "text/x-python",
   "name": "python",
   "nbconvert_exporter": "python",
   "pygments_lexer": "ipython3",
   "version": "3.8.10"
  }
 },
 "nbformat": 4,
 "nbformat_minor": 2
}
